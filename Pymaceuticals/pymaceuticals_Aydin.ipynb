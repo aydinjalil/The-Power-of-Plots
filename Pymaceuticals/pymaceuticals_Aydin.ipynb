{
 "cells": [
  {
   "cell_type": "markdown",
   "metadata": {},
   "source": [
    "# Observations and Insights\n",
    "\n",
    "* Although the four most promising drugs (Capomulin, Ceftamin, Infubinol and Ramicane) were provided in the README file, it can be concluded from the summary statistics that these drugs have the most favorable numbers\n",
    "* Out of those four durgs above the two - Capomulin and Ramicane are most effective due to the survival rate of the mouses treated with these drugs. This conclusion can be made based on the bar plots showing data points for each Drug Regimen. Capomulin and Ramicane have the two most data points meaning that the mouses been able to stay in the treatment for a longer time (did not die).\n",
    "* Out of four Drug Regimens Ceftamin has the greatest interquartlie range which points to an unpredictive nature of the drug among four.\n",
    "* Line plot of Tumor Volume Development over time of Mouses treated with Capomulin shows consistent results. The drug shows significant decrease in tumor volume.\n",
    "* Mouse weight is linearly correlated with the tumor volume meaning the tumor volume increases as the mouse gains weight or maybe the opposite. "
   ]
  },
  {
   "cell_type": "markdown",
   "metadata": {},
   "source": [
    "## Dependencies and starter code"
   ]
  },
  {
   "cell_type": "code",
   "execution_count": 1,
   "metadata": {},
   "outputs": [
    {
     "name": "stdout",
     "output_type": "stream",
     "text": [
      "# Matplotlib Homework - The Power of Plots\n",
      "\n",
      "## Background\n",
      "\n",
      "What good is data without a good plot to tell the story?\n",
      "\n",
      "So, let's take what you've learned about Python Matplotlib and apply it to a real-world situation and dataset:\n",
      "\n",
      "![Laboratory](Images/Laboratory.jpg)\n",
      "\n",
      "While your data companions rushed off to jobs in finance and government, you remained adamant that science was the way for you. Staying true to your mission, you've joined Pymaceuticals Inc., a burgeoning pharmaceutical company based out of San Diego. Pymaceuticals specializes in anti-cancer pharmaceuticals. In its most recent efforts, it began screening for potential treatments for squamous cell carcinoma (SCC), a commonly occurring form of skin cancer.\n",
      "\n",
      "As a senior data analyst at the company, you've been given access to the complete data from their most recent animal study. In this study, 250 mice identified with SCC tumor growth were treated through a variety of drug regimens. Over the course of 45 days, tumor development was observed and measured. The purpose of this study was to compare the performance of Pymaceuticals' drug of interest, Capomulin, versus the other treatment regimens. You have been tasked by the executive team to generate all of the tables and figures needed for the technical report of the study. The executive team also has asked for a top-level summary of the study results.\n",
      "\n",
      "## Instructions\n",
      "\n",
      "Your tasks are to do the following:\n",
      "\n",
      "* Generate a summary statistics table consisting of the mean, median, variance, standard deviation, and SEM of the tumor volume for each drug regimen.\n",
      "\n",
      "* Generate a bar plot using both Pandas's `DataFrame.plot()` and Matplotlib's `pyplot` that shows the number of data points for each treatment regimen.\n",
      "\n",
      "  * **NOTE:** These plots should look identical.\n",
      "\n",
      "* Generate a pie plot using both Pandas's `DataFrame.plot()` and Matplotlib's `pyplot` that shows the distribution of female or male mice in the study.\n",
      "\n",
      "  * **NOTE:** These plots should look identical.\n",
      "\n",
      "* Calculate the final tumor volume of each mouse across four of the most promising treatment regimens: Capomulin, Ramicane, Infubinol, and Ceftamin. Calculate the quartiles and IQR and quantitatively determine if there are any potential outliers across all four treatment regimens.\n",
      "\n",
      "* Using Matplotlib, generate a box and whisker plot of the final tumor volume for all four treatment regimens and highlight any potential outliers in the plot by changing their color and style.\n",
      "\n",
      "  **Hint**: All four box plots should be within the same figure. Use this [Matplotlib documentation page](https://matplotlib.org/gallery/pyplots/boxplot_demo_pyplot.html#sphx-glr-gallery-pyplots-boxplot-demo-pyplot-py) for help with changing the style of the outliers.\n",
      "\n",
      "* Generate a line plot of time point versus tumor volume for a single mouse treated with Capomulin.\n",
      "\n",
      "* Generate a scatter plot of mouse weight versus average tumor volume for the Capomulin treatment regimen.\n",
      "\n",
      "* Calculate the correlation coefficient and linear regression model between mouse weight and average tumor volume for the Capomulin treatment. Plot the linear regression model on top of the previous scatter plot.\n",
      "\n",
      "* Look across all previously generated figures and tables and write at least three observations or inferences that can be made from the data. Include these observations at the top of notebook.\n",
      "\n",
      "Here are some final considerations:\n",
      "\n",
      "* You must use proper labeling of your plots, to include properties such as: plot titles, axis labels, legend labels, _x_-axis and _y_-axis limits, etc.\n",
      "\n",
      "* See the [starter workbook](Pymaceuticals/pymaceuticals_starter.ipynb) for help on what modules to import and expected format of the notebook.\n",
      "\n",
      "## Hints and Considerations\n",
      "\n",
      "* Be warned: These are very challenging tasks. Be patient with yourself as you trudge through these problems. They will take time and there is no shame in fumbling along the way. Data visualization is equal parts exploration, equal parts resolution.\n",
      "\n",
      "* You have been provided a starter notebook. Use the code comments as a reminder of steps to follow as you complete the assignment.\n",
      "\n",
      "* Don't get bogged down in small details. Always focus on the big picture. If you can't figure out how to get a label to show up correctly, come back to it. Focus on getting the core skeleton of your notebook complete. You can always revisit old problems.\n",
      "\n",
      "* While you are trying to complete this assignment, feel encouraged to constantly refer to Stack Overflow and the Pandas documentation. These are needed tools in every data analyst's tool belt.\n",
      "\n",
      "* Remember, there are many ways to approach a data problem. The key is to break up your task into micro tasks. Try answering questions like:\n",
      "\n",
      "  * How does my DataFrame need to be structured for me to have the right _x_-axis and _y_-axis?\n",
      "\n",
      "  * How do I build a basic scatter plot?\n",
      "\n",
      "  * How do I add a label to that scatter plot?\n",
      "\n",
      "  * Where would the labels for that scatter plot come from?\n",
      "\n",
      "  Again, don't let the magnitude of a programming task scare you off. Ultimately, every programming problem boils down to a handful of bite-sized tasks.\n",
      "\n",
      "* Get help when you need it! There is never any shame in asking. But, as always, ask a _specific_ question. You'll never get a great answer to \"I'm lost.\"\n",
      "\n",
      "### Copyright\n",
      "\n",
      "Trilogy Education Services Â© 2019. All Rights Reserved.\n"
     ]
    }
   ],
   "source": [
    "!cat \"../README.md\""
   ]
  },
  {
   "cell_type": "code",
   "execution_count": 2,
   "metadata": {},
   "outputs": [
    {
     "name": "stdout",
     "output_type": "stream",
     "text": [
      "Are there null values in study results?: \n",
      " Mouse ID              False\n",
      "Timepoint             False\n",
      "Tumor Volume (mm3)    False\n",
      "Metastatic Sites      False\n",
      "dtype: bool\n",
      "Are there any NAN values in study results?: \n",
      " Mouse ID              False\n",
      "Timepoint             False\n",
      "Tumor Volume (mm3)    False\n",
      "Metastatic Sites      False\n",
      "dtype: bool\n",
      "Are there any null values in mouse metadata?: \n",
      " Mouse ID        False\n",
      "Drug Regimen    False\n",
      "Sex             False\n",
      "Age_months      False\n",
      "Weight (g)      False\n",
      "dtype: bool\n",
      "Are there any NAN values in mouse metadata?: \n",
      " Mouse ID        False\n",
      "Drug Regimen    False\n",
      "Sex             False\n",
      "Age_months      False\n",
      "Weight (g)      False\n",
      "dtype: bool\n"
     ]
    },
    {
     "data": {
      "text/html": [
       "<div>\n",
       "<style scoped>\n",
       "    .dataframe tbody tr th:only-of-type {\n",
       "        vertical-align: middle;\n",
       "    }\n",
       "\n",
       "    .dataframe tbody tr th {\n",
       "        vertical-align: top;\n",
       "    }\n",
       "\n",
       "    .dataframe thead th {\n",
       "        text-align: right;\n",
       "    }\n",
       "</style>\n",
       "<table border=\"1\" class=\"dataframe\">\n",
       "  <thead>\n",
       "    <tr style=\"text-align: right;\">\n",
       "      <th></th>\n",
       "      <th>Mouse ID</th>\n",
       "      <th>Timepoint</th>\n",
       "      <th>Tumor Volume (mm3)</th>\n",
       "      <th>Metastatic Sites</th>\n",
       "      <th>Drug Regimen</th>\n",
       "      <th>Sex</th>\n",
       "      <th>Age_months</th>\n",
       "      <th>Weight (g)</th>\n",
       "    </tr>\n",
       "  </thead>\n",
       "  <tbody>\n",
       "    <tr>\n",
       "      <th>0</th>\n",
       "      <td>b128</td>\n",
       "      <td>0</td>\n",
       "      <td>45.000000</td>\n",
       "      <td>0</td>\n",
       "      <td>Capomulin</td>\n",
       "      <td>Female</td>\n",
       "      <td>9</td>\n",
       "      <td>22</td>\n",
       "    </tr>\n",
       "    <tr>\n",
       "      <th>1</th>\n",
       "      <td>b128</td>\n",
       "      <td>5</td>\n",
       "      <td>45.651331</td>\n",
       "      <td>0</td>\n",
       "      <td>Capomulin</td>\n",
       "      <td>Female</td>\n",
       "      <td>9</td>\n",
       "      <td>22</td>\n",
       "    </tr>\n",
       "    <tr>\n",
       "      <th>2</th>\n",
       "      <td>b128</td>\n",
       "      <td>10</td>\n",
       "      <td>43.270852</td>\n",
       "      <td>0</td>\n",
       "      <td>Capomulin</td>\n",
       "      <td>Female</td>\n",
       "      <td>9</td>\n",
       "      <td>22</td>\n",
       "    </tr>\n",
       "    <tr>\n",
       "      <th>3</th>\n",
       "      <td>b128</td>\n",
       "      <td>15</td>\n",
       "      <td>43.784893</td>\n",
       "      <td>0</td>\n",
       "      <td>Capomulin</td>\n",
       "      <td>Female</td>\n",
       "      <td>9</td>\n",
       "      <td>22</td>\n",
       "    </tr>\n",
       "    <tr>\n",
       "      <th>4</th>\n",
       "      <td>b128</td>\n",
       "      <td>20</td>\n",
       "      <td>42.731552</td>\n",
       "      <td>0</td>\n",
       "      <td>Capomulin</td>\n",
       "      <td>Female</td>\n",
       "      <td>9</td>\n",
       "      <td>22</td>\n",
       "    </tr>\n",
       "  </tbody>\n",
       "</table>\n",
       "</div>"
      ],
      "text/plain": [
       "  Mouse ID  Timepoint  Tumor Volume (mm3)  Metastatic Sites Drug Regimen  \\\n",
       "0     b128          0           45.000000                 0    Capomulin   \n",
       "1     b128          5           45.651331                 0    Capomulin   \n",
       "2     b128         10           43.270852                 0    Capomulin   \n",
       "3     b128         15           43.784893                 0    Capomulin   \n",
       "4     b128         20           42.731552                 0    Capomulin   \n",
       "\n",
       "      Sex  Age_months  Weight (g)  \n",
       "0  Female           9          22  \n",
       "1  Female           9          22  \n",
       "2  Female           9          22  \n",
       "3  Female           9          22  \n",
       "4  Female           9          22  "
      ]
     },
     "execution_count": 2,
     "metadata": {},
     "output_type": "execute_result"
    }
   ],
   "source": [
    "# Dependencies and Setup\n",
    "\n",
    "import matplotlib.pyplot as plt\n",
    "import pandas as pd\n",
    "import scipy.stats as st\n",
    "import numpy as np\n",
    "\n",
    "# Study data files\n",
    "\n",
    "mouse_metadata = \"data/Mouse_metadata.csv\"\n",
    "study_results = \"data/Study_results.csv\"\n",
    "\n",
    "# Read the mouse data and the study results\n",
    "\n",
    "mouse_metadata = pd.read_csv(mouse_metadata)\n",
    "study_results = pd.read_csv(study_results)\n",
    "\n",
    "# Check the data for null values and Nan values before merging two dataframes. There are duplicate mouses in the dataset but that is expected since the same \n",
    "# mouse can be used in different experiements.\n",
    "\n",
    "print(\"Are there null values in study results?:\", \"\\n\", study_results.isnull().any())\n",
    "print(\"Are there any NAN values in study results?:\", \"\\n\", study_results.isna().any())\n",
    "print(\"Are there any null values in mouse metadata?:\", \"\\n\", mouse_metadata.isnull().any())\n",
    "print(\"Are there any NAN values in mouse metadata?:\", \"\\n\", mouse_metadata.isna().any())\n",
    "\n",
    "\n",
    "# Combine the data into a single dataset. Here it was chose outer type to merge the two dataframes as it will return the\n",
    "# complete data from both tables\n",
    "\n",
    "complete_study = pd.merge(study_results, mouse_metadata, on='Mouse ID', how='outer')\n",
    "complete_study.head()\n",
    "\n",
    "# Additional info: Right off the bat by looking at the first 20 rows of the complete data it can be concluded that the Mouse\n",
    "# ID f932 did not survive the test. It could be due to the age of the mouse, given the average lifespan of 18 months.\n"
   ]
  },
  {
   "cell_type": "markdown",
   "metadata": {},
   "source": [
    "## Summary statistics"
   ]
  },
  {
   "cell_type": "code",
   "execution_count": 3,
   "metadata": {},
   "outputs": [
    {
     "data": {
      "text/html": [
       "<div>\n",
       "<style scoped>\n",
       "    .dataframe tbody tr th:only-of-type {\n",
       "        vertical-align: middle;\n",
       "    }\n",
       "\n",
       "    .dataframe tbody tr th {\n",
       "        vertical-align: top;\n",
       "    }\n",
       "\n",
       "    .dataframe thead th {\n",
       "        text-align: right;\n",
       "    }\n",
       "</style>\n",
       "<table border=\"1\" class=\"dataframe\">\n",
       "  <thead>\n",
       "    <tr style=\"text-align: right;\">\n",
       "      <th></th>\n",
       "      <th>Mean</th>\n",
       "      <th>Median</th>\n",
       "      <th>Variance</th>\n",
       "      <th>STD</th>\n",
       "      <th>SEM</th>\n",
       "    </tr>\n",
       "    <tr>\n",
       "      <th>Drug Regimen</th>\n",
       "      <th></th>\n",
       "      <th></th>\n",
       "      <th></th>\n",
       "      <th></th>\n",
       "      <th></th>\n",
       "    </tr>\n",
       "  </thead>\n",
       "  <tbody>\n",
       "    <tr>\n",
       "      <th>Capomulin</th>\n",
       "      <td>40.675741</td>\n",
       "      <td>41.557809</td>\n",
       "      <td>24.947764</td>\n",
       "      <td>4.994774</td>\n",
       "      <td>0.329346</td>\n",
       "    </tr>\n",
       "    <tr>\n",
       "      <th>Ceftamin</th>\n",
       "      <td>52.591172</td>\n",
       "      <td>51.776157</td>\n",
       "      <td>39.290177</td>\n",
       "      <td>6.268188</td>\n",
       "      <td>0.469821</td>\n",
       "    </tr>\n",
       "    <tr>\n",
       "      <th>Infubinol</th>\n",
       "      <td>52.884795</td>\n",
       "      <td>51.820584</td>\n",
       "      <td>43.128684</td>\n",
       "      <td>6.567243</td>\n",
       "      <td>0.492236</td>\n",
       "    </tr>\n",
       "    <tr>\n",
       "      <th>Ketapril</th>\n",
       "      <td>55.235638</td>\n",
       "      <td>53.698743</td>\n",
       "      <td>68.553577</td>\n",
       "      <td>8.279709</td>\n",
       "      <td>0.603860</td>\n",
       "    </tr>\n",
       "    <tr>\n",
       "      <th>Naftisol</th>\n",
       "      <td>54.331565</td>\n",
       "      <td>52.509285</td>\n",
       "      <td>66.173479</td>\n",
       "      <td>8.134708</td>\n",
       "      <td>0.596466</td>\n",
       "    </tr>\n",
       "    <tr>\n",
       "      <th>Placebo</th>\n",
       "      <td>54.033581</td>\n",
       "      <td>52.288934</td>\n",
       "      <td>61.168083</td>\n",
       "      <td>7.821003</td>\n",
       "      <td>0.581331</td>\n",
       "    </tr>\n",
       "    <tr>\n",
       "      <th>Propriva</th>\n",
       "      <td>52.322552</td>\n",
       "      <td>50.854632</td>\n",
       "      <td>42.351070</td>\n",
       "      <td>6.507770</td>\n",
       "      <td>0.512884</td>\n",
       "    </tr>\n",
       "    <tr>\n",
       "      <th>Ramicane</th>\n",
       "      <td>40.216745</td>\n",
       "      <td>40.673236</td>\n",
       "      <td>23.486704</td>\n",
       "      <td>4.846308</td>\n",
       "      <td>0.320955</td>\n",
       "    </tr>\n",
       "    <tr>\n",
       "      <th>Stelasyn</th>\n",
       "      <td>54.233149</td>\n",
       "      <td>52.431737</td>\n",
       "      <td>59.450562</td>\n",
       "      <td>7.710419</td>\n",
       "      <td>0.573111</td>\n",
       "    </tr>\n",
       "    <tr>\n",
       "      <th>Zoniferol</th>\n",
       "      <td>53.236507</td>\n",
       "      <td>51.818479</td>\n",
       "      <td>48.533355</td>\n",
       "      <td>6.966589</td>\n",
       "      <td>0.516398</td>\n",
       "    </tr>\n",
       "  </tbody>\n",
       "</table>\n",
       "</div>"
      ],
      "text/plain": [
       "                   Mean     Median   Variance       STD       SEM\n",
       "Drug Regimen                                                     \n",
       "Capomulin     40.675741  41.557809  24.947764  4.994774  0.329346\n",
       "Ceftamin      52.591172  51.776157  39.290177  6.268188  0.469821\n",
       "Infubinol     52.884795  51.820584  43.128684  6.567243  0.492236\n",
       "Ketapril      55.235638  53.698743  68.553577  8.279709  0.603860\n",
       "Naftisol      54.331565  52.509285  66.173479  8.134708  0.596466\n",
       "Placebo       54.033581  52.288934  61.168083  7.821003  0.581331\n",
       "Propriva      52.322552  50.854632  42.351070  6.507770  0.512884\n",
       "Ramicane      40.216745  40.673236  23.486704  4.846308  0.320955\n",
       "Stelasyn      54.233149  52.431737  59.450562  7.710419  0.573111\n",
       "Zoniferol     53.236507  51.818479  48.533355  6.966589  0.516398"
      ]
     },
     "execution_count": 3,
     "metadata": {},
     "output_type": "execute_result"
    },
    {
     "data": {
      "image/png": "[encoded data removed]",
      "text/plain": [
       "<Figure size 432x288 with 1 Axes>"
      ]
     },
     "metadata": {
      "needs_background": "light"
     },
     "output_type": "display_data"
    }
   ],
   "source": [
    "%matplotlib inline\n",
    "# Generate a summary statistics table of mean, median, variance, standard deviation, and SEM of the tumor volume for each regimen\n",
    "drug_group = complete_study[[\"Drug Regimen\", \"Tumor Volume (mm3)\"]].groupby('Drug Regimen')\n",
    "\n",
    "tumor_mean = drug_group['Tumor Volume (mm3)'].mean()\n",
    "tumor_median = drug_group['Tumor Volume (mm3)'].median()\n",
    "tumor_variance = drug_group['Tumor Volume (mm3)'].var()\n",
    "tumor_std = drug_group['Tumor Volume (mm3)'].std()\n",
    "tumor_sem = drug_group['Tumor Volume (mm3)'].sem()\n",
    "\n",
    "summary_statistics = pd.DataFrame({\"Mean\": tumor_mean, \"Median\": tumor_median, \"Variance\": tumor_variance, \"STD\": tumor_std, \\\n",
    "                                  \"SEM\": tumor_sem})\n",
    "\n",
    "# The following plot is to show the most effective drugs according to their SEM values. Although all 5 statistical parameters\n",
    "# should be take into account when deciding the effectiveness of the drugs. The plots of other statistical parameters are\n",
    "# identical to below represented SEM results\n",
    "ax_sem = summary_statistics['SEM'].plot.bar()\n",
    "ax_sem.set_ylabel('Standard Error of the Mean (SEM)')\n",
    "summary_statistics"
   ]
  },
  {
   "cell_type": "markdown",
   "metadata": {},
   "source": [
    "From above analysis it can be concluded that the 4 most promising drugs to battle the type of cancer are \n",
    "\n",
    "* Ramicane,\n",
    "* Capomulin,\n",
    "* Ceftamin and,\n",
    "* Infubinol. \n",
    "\n",
    "The statistics of these drugs show minimum mean and standard error of the mean."
   ]
  },
  {
   "cell_type": "markdown",
   "metadata": {},
   "source": [
    "## Bar plots"
   ]
  },
  {
   "cell_type": "code",
   "execution_count": 4,
   "metadata": {},
   "outputs": [
    {
     "data": {
      "text/plain": [
       "Text(0, 0.5, 'Number of data points')"
      ]
     },
     "execution_count": 4,
     "metadata": {},
     "output_type": "execute_result"
    },
    {
     "data": {
      "image/png": "[encoded data removed]",
      "text/plain": [
       "<Figure size 432x288 with 1 Axes>"
      ]
     },
     "metadata": {
      "needs_background": "light"
     },
     "output_type": "display_data"
    }
   ],
   "source": [
    "# Generate a bar plot showing number of data points for each treatment regimen using pandas\n",
    "\n",
    "data_points = drug_group.count()\n",
    "ax = data_points.plot.bar(legend=False, color='rgbkymc')\n",
    "ax.set_ylabel('Number of data points')"
   ]
  },
  {
   "cell_type": "code",
   "execution_count": 5,
   "metadata": {},
   "outputs": [
    {
     "data": {
      "image/png": "[encoded data removed]",
      "text/plain": [
       "<Figure size 432x288 with 1 Axes>"
      ]
     },
     "metadata": {
      "needs_background": "light"
     },
     "output_type": "display_data"
    }
   ],
   "source": [
    "# Generate a bar plot showing number of data points for each treatment regimen using pyplot\n",
    "\n",
    "plt.bar(data_points.index, data_points['Tumor Volume (mm3)'], width = 0.5, color = 'rgbkymc')\n",
    "plt.xticks(data_points.index, rotation='vertical')\n",
    "plt.show()"
   ]
  },
  {
   "cell_type": "markdown",
   "metadata": {},
   "source": [
    "## Pie plots"
   ]
  },
  {
   "cell_type": "code",
   "execution_count": 6,
   "metadata": {},
   "outputs": [
    {
     "data": {
      "text/plain": [
       "Text(0.5, 1.0, 'Distribution of Female vs Male')"
      ]
     },
     "execution_count": 6,
     "metadata": {},
     "output_type": "execute_result"
    },
    {
     "data": {
      "image/png": "[encoded data removed]",
      "text/plain": [
       "<Figure size 540x540 with 1 Axes>"
      ]
     },
     "metadata": {},
     "output_type": "display_data"
    }
   ],
   "source": [
    "# Generate a pie plot showing the distribution of female versus male mice using pandas\n",
    "\n",
    "explode = [0,0.05]\n",
    "gender_group = complete_study.groupby(\"Sex\")\n",
    "ax1 = gender_group['Mouse ID'].nunique().plot(kind = 'pie', figsize=(7.5, 7.5), explode=explode, autopct='%1.1f%%',\\\n",
    "                                        shadow=True, startangle=140)\n",
    "\n",
    "ax1.set_title(\"Distribution of Female vs Male\")"
   ]
  },
  {
   "cell_type": "code",
   "execution_count": null,
   "metadata": {},
   "outputs": [],
   "source": []
  },
  {
   "cell_type": "code",
   "execution_count": 7,
   "metadata": {},
   "outputs": [
    {
     "data": {
      "image/png": "[encoded data removed]",
      "text/plain": [
       "<Figure size 540x540 with 1 Axes>"
      ]
     },
     "metadata": {},
     "output_type": "display_data"
    }
   ],
   "source": [
    "# Generate a pie plot showing the distribution of female versus male mice using pyplot\n",
    "\n",
    "gender_group = complete_study.groupby(\"Sex\")\n",
    "\n",
    "fig1, ax2 = plt.subplots(figsize=(7.5, 7.5))\n",
    "\n",
    "explode = [0,0.05]\n",
    "\n",
    "\n",
    "ax2.pie(gender_group['Mouse ID'].nunique(), explode = explode, labels= gender_group['Mouse ID'].nunique().index,\\\n",
    "        autopct='%1.1f%%', shadow=True, startangle=140, )\n",
    "plt.title(\"Distribution of Female vs Male\")\n",
    "plt.show()"
   ]
  },
  {
   "cell_type": "markdown",
   "metadata": {},
   "source": [
    "## Quartiles, outliers and boxplots"
   ]
  },
  {
   "cell_type": "code",
   "execution_count": 8,
   "metadata": {},
   "outputs": [
    {
     "name": "stdout",
     "output_type": "stream",
     "text": [
      "There are outlier(s) in Infubinol treated tummor volumes\n",
      "\n",
      "Q1_Infubinol =  54.04860769 \n",
      "Median_Infubinol =  60.16518046 \n",
      "Q3_Infubinol =  65.52574285\n",
      "IQR_Infubinol =  11.477135160000003 \n",
      "Upper Boundary_Infubinol =  82.74144559000001 \n",
      "Lower Boundary_Infubinol =  36.83290494999999 \n",
      "\n",
      "\n",
      "There are no outliers in Ceftamin treated tumor volumes\n",
      "\n",
      "Q1_Ceftamin =  48.72207785 \n",
      "Median_Ceftamin =  59.85195552 \n",
      "Q3_Ceftamin =  64.29983003\n",
      "IQR_Ceftamin =  15.577752179999997 \n",
      "Upper Boundary_Ceftamin =  87.66645829999999 \n",
      "Lower Boundary_Ceftamin =  25.355449580000002 \n",
      "\n",
      "\n",
      "There are no outliers in Ramicane treated tumor volumes\n",
      "\n",
      "Q1_Ramicane =  31.56046955 \n",
      "Median_Ramicane =  36.56165229 \n",
      "Q3_Ramicane =  40.65900627\n",
      "IQR_Ramicane =  9.098536719999998 \n",
      "Upper Boundary_Ramicane =  54.30681135 \n",
      "Lower Boundary_Ramicane =  17.912664470000003 \n",
      "\n",
      "\n",
      "There are no outliers in Capomulin treated tumor volumes\n",
      "\n",
      "Q1_Capomulin =  32.37735684 \n",
      "Median_Capomulin =  38.125164399999996 \n",
      "Q3_Capomulin =  40.1592203\n",
      "IQR_Capomulin =  7.781863460000004 \n",
      "Upper Boundary_Capomulin =  51.83201549 \n",
      "Lower Boundary_Capomulin =  20.70456164999999 \n",
      "\n",
      "\n"
     ]
    },
    {
     "data": {
      "text/html": [
       "<div>\n",
       "<style scoped>\n",
       "    .dataframe tbody tr th:only-of-type {\n",
       "        vertical-align: middle;\n",
       "    }\n",
       "\n",
       "    .dataframe tbody tr th {\n",
       "        vertical-align: top;\n",
       "    }\n",
       "\n",
       "    .dataframe thead th {\n",
       "        text-align: right;\n",
       "    }\n",
       "</style>\n",
       "<table border=\"1\" class=\"dataframe\">\n",
       "  <thead>\n",
       "    <tr style=\"text-align: right;\">\n",
       "      <th></th>\n",
       "      <th>Mouse ID</th>\n",
       "      <th>Drug Regimen</th>\n",
       "      <th>Final Tumor Volume (mm3)</th>\n",
       "    </tr>\n",
       "  </thead>\n",
       "  <tbody>\n",
       "    <tr>\n",
       "      <th>0</th>\n",
       "      <td>a203</td>\n",
       "      <td>Infubinol</td>\n",
       "      <td>67.973419</td>\n",
       "    </tr>\n",
       "    <tr>\n",
       "      <th>1</th>\n",
       "      <td>a251</td>\n",
       "      <td>Infubinol</td>\n",
       "      <td>65.525743</td>\n",
       "    </tr>\n",
       "    <tr>\n",
       "      <th>2</th>\n",
       "      <td>a275</td>\n",
       "      <td>Ceftamin</td>\n",
       "      <td>62.999356</td>\n",
       "    </tr>\n",
       "    <tr>\n",
       "      <th>3</th>\n",
       "      <td>a411</td>\n",
       "      <td>Ramicane</td>\n",
       "      <td>38.407618</td>\n",
       "    </tr>\n",
       "    <tr>\n",
       "      <th>4</th>\n",
       "      <td>a444</td>\n",
       "      <td>Ramicane</td>\n",
       "      <td>43.047543</td>\n",
       "    </tr>\n",
       "    <tr>\n",
       "      <th>...</th>\n",
       "      <td>...</td>\n",
       "      <td>...</td>\n",
       "      <td>...</td>\n",
       "    </tr>\n",
       "    <tr>\n",
       "      <th>95</th>\n",
       "      <td>y769</td>\n",
       "      <td>Ceftamin</td>\n",
       "      <td>68.594745</td>\n",
       "    </tr>\n",
       "    <tr>\n",
       "      <th>96</th>\n",
       "      <td>y793</td>\n",
       "      <td>Capomulin</td>\n",
       "      <td>31.896238</td>\n",
       "    </tr>\n",
       "    <tr>\n",
       "      <th>97</th>\n",
       "      <td>y865</td>\n",
       "      <td>Ceftamin</td>\n",
       "      <td>64.729837</td>\n",
       "    </tr>\n",
       "    <tr>\n",
       "      <th>98</th>\n",
       "      <td>z578</td>\n",
       "      <td>Ramicane</td>\n",
       "      <td>30.638696</td>\n",
       "    </tr>\n",
       "    <tr>\n",
       "      <th>99</th>\n",
       "      <td>z581</td>\n",
       "      <td>Infubinol</td>\n",
       "      <td>62.754451</td>\n",
       "    </tr>\n",
       "  </tbody>\n",
       "</table>\n",
       "<p>100 rows × 3 columns</p>\n",
       "</div>"
      ],
      "text/plain": [
       "   Mouse ID Drug Regimen  Final Tumor Volume (mm3)\n",
       "0      a203    Infubinol                 67.973419\n",
       "1      a251    Infubinol                 65.525743\n",
       "2      a275     Ceftamin                 62.999356\n",
       "3      a411     Ramicane                 38.407618\n",
       "4      a444     Ramicane                 43.047543\n",
       "..      ...          ...                       ...\n",
       "95     y769     Ceftamin                 68.594745\n",
       "96     y793    Capomulin                 31.896238\n",
       "97     y865     Ceftamin                 64.729837\n",
       "98     z578     Ramicane                 30.638696\n",
       "99     z581    Infubinol                 62.754451\n",
       "\n",
       "[100 rows x 3 columns]"
      ]
     },
     "execution_count": 8,
     "metadata": {},
     "output_type": "execute_result"
    }
   ],
   "source": [
    "# Calculate the final tumor volume of each mouse across four of the most promising treatment regimens. Calculate the IQR and quantitatively determine if there are any potential outliers.\n",
    "\n",
    "# In order to create drug masks it is important to convert elements in Drug Regimen Column into str. In original dataframe they are objects.\n",
    "\n",
    "complete_study[\"Drug Regimen\"] = complete_study[\"Drug Regimen\"].astype(str)\n",
    "\n",
    "# We put the most effective 4 drugs into a list. \n",
    "\n",
    "effective_drugs = ['Ramicane', 'Capomulin', 'Ceftamin', 'Infubinol']\n",
    "\n",
    "# create masks for each most effective drug regimens\n",
    "\n",
    "ramicane_mask = complete_study['Drug Regimen'] == 'Ramicane'\n",
    "capomulin_mask = complete_study['Drug Regimen'] == 'Capomulin'\n",
    "ceftamin_mask = complete_study['Drug Regimen'] == 'Ceftamin'\n",
    "infubinol_mask = complete_study['Drug Regimen'] == 'Infubinol'\n",
    "\n",
    "# apply the mask to the original dataframe\n",
    "\n",
    "drug_mask = complete_study[ramicane_mask | capomulin_mask | ceftamin_mask | infubinol_mask]\n",
    "\n",
    "# retreive final tumor volume for each mouse\n",
    "\n",
    "final_tumor_volume = drug_mask.groupby(['Mouse ID', 'Drug Regimen'])['Tumor Volume (mm3)'].last().reset_index()\n",
    "final_tumor_volume = final_tumor_volume.rename(columns={'Tumor Volume (mm3)': 'Final Tumor Volume (mm3)'})\n",
    "\n",
    "# Loop over all four Drug Regimens and calculate statistical information about each one of them according to the tumor volumes\n",
    "for drug in final_tumor_volume['Drug Regimen'].unique():\n",
    "    \n",
    "    # IQR calculation\n",
    "\n",
    "    q1 = np.percentile(final_tumor_volume[final_tumor_volume['Drug Regimen'] == drug]['Final Tumor Volume (mm3)'].values, 25)\n",
    "    q2 = np.percentile(final_tumor_volume[final_tumor_volume['Drug Regimen'] == drug]['Final Tumor Volume (mm3)'].values, 50)\n",
    "    q3 = np.percentile(final_tumor_volume[final_tumor_volume['Drug Regimen'] == drug]['Final Tumor Volume (mm3)'].values, 75)\n",
    "    iqr = q3 - q1\n",
    "\n",
    "    upper_boundary = q3 + 1.5*iqr\n",
    "    lower_boundary = q1 - 1.5*iqr\n",
    "    \n",
    "    # Determine if there are outliers\n",
    "    outlier_prep = final_tumor_volume[final_tumor_volume['Drug Regimen'] == drug]['Final Tumor Volume (mm3)']\n",
    "    outlier1 = (outlier_prep > upper_boundary).any()\n",
    "    outlier2 = (outlier_prep < lower_boundary).any()\n",
    "\n",
    "    # Quantitative check for outliers in the dataset\n",
    "\n",
    "    if outlier1 or outlier2:\n",
    "        print(f'There are outlier(s) in {drug} treated tummor volumes\\n')\n",
    "        print(f\"Q1_{drug} = \", q1, f'\\nMedian_{drug} = ', q2, f'\\nQ3_{drug} = ', q3)\n",
    "        print(f\"IQR_{drug} = \", iqr, f'\\nUpper Boundary_{drug} = ', upper_boundary, f'\\nLower Boundary_{drug} = ', lower_boundary, \"\\n\\n\")\n",
    "    else:\n",
    "        print(f'There are no outliers in {drug} treated tumor volumes\\n')\n",
    "        print(f\"Q1_{drug} = \", q1, f'\\nMedian_{drug} = ', q2, f'\\nQ3_{drug} = ', q3)\n",
    "        print(f\"IQR_{drug} = \", iqr, f'\\nUpper Boundary_{drug} = ', upper_boundary, f'\\nLower Boundary_{drug} = ', lower_boundary, \"\\n\\n\")\n",
    "\n",
    "    \n",
    "final_tumor_volume"
   ]
  },
  {
   "cell_type": "code",
   "execution_count": 9,
   "metadata": {},
   "outputs": [
    {
     "data": {
      "text/html": [
       "<div>\n",
       "<style scoped>\n",
       "    .dataframe tbody tr th:only-of-type {\n",
       "        vertical-align: middle;\n",
       "    }\n",
       "\n",
       "    .dataframe tbody tr th {\n",
       "        vertical-align: top;\n",
       "    }\n",
       "\n",
       "    .dataframe thead th {\n",
       "        text-align: right;\n",
       "    }\n",
       "</style>\n",
       "<table border=\"1\" class=\"dataframe\">\n",
       "  <thead>\n",
       "    <tr style=\"text-align: right;\">\n",
       "      <th></th>\n",
       "      <th>Mouse ID</th>\n",
       "      <th>Drug Regimen</th>\n",
       "      <th>Final Tumor Volume (mm3)</th>\n",
       "    </tr>\n",
       "  </thead>\n",
       "  <tbody>\n",
       "    <tr>\n",
       "      <th>15</th>\n",
       "      <td>c326</td>\n",
       "      <td>Infubinol</td>\n",
       "      <td>36.321346</td>\n",
       "    </tr>\n",
       "    <tr>\n",
       "      <th>58</th>\n",
       "      <td>o813</td>\n",
       "      <td>Infubinol</td>\n",
       "      <td>45.699331</td>\n",
       "    </tr>\n",
       "    <tr>\n",
       "      <th>79</th>\n",
       "      <td>v339</td>\n",
       "      <td>Infubinol</td>\n",
       "      <td>46.250112</td>\n",
       "    </tr>\n",
       "    <tr>\n",
       "      <th>52</th>\n",
       "      <td>m756</td>\n",
       "      <td>Infubinol</td>\n",
       "      <td>47.010364</td>\n",
       "    </tr>\n",
       "    <tr>\n",
       "      <th>85</th>\n",
       "      <td>w193</td>\n",
       "      <td>Infubinol</td>\n",
       "      <td>50.005138</td>\n",
       "    </tr>\n",
       "  </tbody>\n",
       "</table>\n",
       "</div>"
      ],
      "text/plain": [
       "   Mouse ID Drug Regimen  Final Tumor Volume (mm3)\n",
       "15     c326    Infubinol                 36.321346\n",
       "58     o813    Infubinol                 45.699331\n",
       "79     v339    Infubinol                 46.250112\n",
       "52     m756    Infubinol                 47.010364\n",
       "85     w193    Infubinol                 50.005138"
      ]
     },
     "execution_count": 9,
     "metadata": {},
     "output_type": "execute_result"
    }
   ],
   "source": [
    "final_tumor_volume[final_tumor_volume['Drug Regimen'] == 'Infubinol'].nsmallest(5, 'Final Tumor Volume (mm3)') "
   ]
  },
  {
   "cell_type": "markdown",
   "metadata": {},
   "source": [
    "### Analysis shows that there are outlier(s) in infubinol treated tumor volumes. We will identify the outlier below."
   ]
  },
  {
   "cell_type": "code",
   "execution_count": 10,
   "metadata": {},
   "outputs": [
    {
     "data": {
      "image/png": "[encoded data removed]",
      "text/plain": [
       "<Figure size 432x288 with 1 Axes>"
      ]
     },
     "metadata": {
      "needs_background": "light"
     },
     "output_type": "display_data"
    },
    {
     "name": "stdout",
     "output_type": "stream",
     "text": [
      "Outlier is:\n",
      "Mouse ID                         a203\n",
      "Drug Regimen                Infubinol\n",
      "Final Tumor Volume (mm3)      36.3213\n",
      "dtype: object\n"
     ]
    }
   ],
   "source": [
    "# Generate a box plot of the final tumor volume of each mouse across four regimens of interest\n",
    "\n",
    "data1 = final_tumor_volume[final_tumor_volume['Drug Regimen'] == 'Infubinol']['Final Tumor Volume (mm3)']\n",
    "data2 = final_tumor_volume[final_tumor_volume['Drug Regimen'] == 'Ceftamin']['Final Tumor Volume (mm3)']\n",
    "data3 = final_tumor_volume[final_tumor_volume['Drug Regimen'] == 'Ramicane']['Final Tumor Volume (mm3)']\n",
    "data4 = final_tumor_volume[final_tumor_volume['Drug Regimen'] == 'Capomulin']['Final Tumor Volume (mm3)']\n",
    "\n",
    "plt.boxplot([data1, data2, data3, data4], showmeans=True, labels=list(final_tumor_volume['Drug Regimen'].unique()), sym ='b.')\n",
    "plt.xlabel(\"Drug Regimens\")\n",
    "plt.ylabel(\"Tumor Volume (mm3)\")\n",
    "plt.ylim(0,80)\n",
    "plt.title(\"Final Tumor Volume of each Mouse per Regimen\")\n",
    "plt.grid()\n",
    "plt.show()\n",
    "\n",
    "outlier_infubinol = final_tumor_volume[final_tumor_volume['Drug Regimen'] == 'Infubinol'].min()\n",
    "print(f'Outlier is:\\n{outlier_infubinol}')\n",
    "\n",
    "# each of boxplot results can be checked by plugging in relevant data into the following sample code\n",
    "# final_tumor_volume[final_tumor_volume['Drug Regimen'] == 'Infubinol'].(Statistical function)\n",
    "\n",
    "\n"
   ]
  },
  {
   "cell_type": "markdown",
   "metadata": {},
   "source": [
    "The behavior of the above boxplot was a little confusing at first, especially for the Tumor Volume treated by Infubinol. The lower limit of the whisker in boxplot was way off from the calculated value of 36 mm3 (Approximately 45 mm3 in boxplot). I went ahead and analyzed the smallest 5 values in my final_tumor_volume dataframe.\n",
    "\n",
    " "
   ]
  },
  {
   "cell_type": "code",
   "execution_count": 11,
   "metadata": {},
   "outputs": [
    {
     "data": {
      "text/html": [
       "<div>\n",
       "<style scoped>\n",
       "    .dataframe tbody tr th:only-of-type {\n",
       "        vertical-align: middle;\n",
       "    }\n",
       "\n",
       "    .dataframe tbody tr th {\n",
       "        vertical-align: top;\n",
       "    }\n",
       "\n",
       "    .dataframe thead th {\n",
       "        text-align: right;\n",
       "    }\n",
       "</style>\n",
       "<table border=\"1\" class=\"dataframe\">\n",
       "  <thead>\n",
       "    <tr style=\"text-align: right;\">\n",
       "      <th></th>\n",
       "      <th>Mouse ID</th>\n",
       "      <th>Drug Regimen</th>\n",
       "      <th>Final Tumor Volume (mm3)</th>\n",
       "    </tr>\n",
       "  </thead>\n",
       "  <tbody>\n",
       "    <tr>\n",
       "      <th>15</th>\n",
       "      <td>c326</td>\n",
       "      <td>Infubinol</td>\n",
       "      <td>36.321346</td>\n",
       "    </tr>\n",
       "    <tr>\n",
       "      <th>58</th>\n",
       "      <td>o813</td>\n",
       "      <td>Infubinol</td>\n",
       "      <td>45.699331</td>\n",
       "    </tr>\n",
       "    <tr>\n",
       "      <th>79</th>\n",
       "      <td>v339</td>\n",
       "      <td>Infubinol</td>\n",
       "      <td>46.250112</td>\n",
       "    </tr>\n",
       "    <tr>\n",
       "      <th>52</th>\n",
       "      <td>m756</td>\n",
       "      <td>Infubinol</td>\n",
       "      <td>47.010364</td>\n",
       "    </tr>\n",
       "    <tr>\n",
       "      <th>85</th>\n",
       "      <td>w193</td>\n",
       "      <td>Infubinol</td>\n",
       "      <td>50.005138</td>\n",
       "    </tr>\n",
       "  </tbody>\n",
       "</table>\n",
       "</div>"
      ],
      "text/plain": [
       "   Mouse ID Drug Regimen  Final Tumor Volume (mm3)\n",
       "15     c326    Infubinol                 36.321346\n",
       "58     o813    Infubinol                 45.699331\n",
       "79     v339    Infubinol                 46.250112\n",
       "52     m756    Infubinol                 47.010364\n",
       "85     w193    Infubinol                 50.005138"
      ]
     },
     "execution_count": 11,
     "metadata": {},
     "output_type": "execute_result"
    }
   ],
   "source": [
    "final_tumor_volume[final_tumor_volume['Drug Regimen'] == 'Infubinol'].nsmallest(5, 'Final Tumor Volume (mm3)')"
   ]
  },
  {
   "cell_type": "markdown",
   "metadata": {},
   "source": [
    "According to above calculations Lower Boundary_Infubinol =  36.83290494999999\n",
    "This is is slightly greater than minimum tumor volume in the tumor volume array, therefore the boxplot function picks up the next smallest element, which is (58 - o813 - Infubinol - 45.699331) and shortens its lower boundary to that point. "
   ]
  },
  {
   "cell_type": "markdown",
   "metadata": {},
   "source": [
    "## Line and scatter plots"
   ]
  },
  {
   "cell_type": "code",
   "execution_count": 12,
   "metadata": {},
   "outputs": [
    {
     "data": {
      "image/png": "[encoded data removed]",
      "text/plain": [
       "<Figure size 432x288 with 1 Axes>"
      ]
     },
     "metadata": {
      "needs_background": "light"
     },
     "output_type": "display_data"
    }
   ],
   "source": [
    "# Generate a line plot of time point versus tumor volume for a mouse treated with Capomulin\n",
    "\n",
    "# Because the task is to generate a line plot of a time point vs tumor volume for a single mouse it was decided to\n",
    "# pick a random mouse that is treated with Capomulin\n",
    "\n",
    "capomulin_df = complete_study[capomulin_mask]\n",
    "capomulin_df = capomulin_df.set_index('Timepoint')\n",
    "\n",
    "#pick a random mouse\n",
    "random_mouse_id = capomulin_df['Mouse ID'].sample().values[0]\n",
    "\n",
    "#apply mask to the capomulin_df and plot it\n",
    "plt.plot(capomulin_df[capomulin_df['Mouse ID'] == random_mouse_id]['Tumor Volume (mm3)'])\n",
    "plt.title(f\"Mouse ID: {random_mouse_id} Tumor Volume Development Over Time\")\n",
    "plt.xlabel(\"Timepoint\")\n",
    "plt.ylabel(\"Tumor Volume (mm3)\")\n",
    "\n",
    "# Set the ylimit and xlimit for trustworthy representation of relation between tumor volume and the time. y andx \n",
    "#limits are chosen based on the minimum and maximum tumor volumes and total timepoints in the given dataset of mouses treated by Capomulin\n",
    "plt.ylim(10, 50)\n",
    "plt.xlim(0,45, 5)\n",
    "plt.grid()\n",
    "plt.show()"
   ]
  },
  {
   "cell_type": "code",
   "execution_count": 13,
   "metadata": {},
   "outputs": [
    {
     "data": {
      "text/plain": [
       "(20, 50)"
      ]
     },
     "execution_count": 13,
     "metadata": {},
     "output_type": "execute_result"
    },
    {
     "data": {
      "image/png": "[encoded data removed]",
      "text/plain": [
       "<Figure size 432x288 with 1 Axes>"
      ]
     },
     "metadata": {
      "needs_background": "light"
     },
     "output_type": "display_data"
    }
   ],
   "source": [
    "# Generate a scatter plot of mouse weight versus average tumor volume for the Capomulin regimen\n",
    "capomulin_df = complete_study[capomulin_mask]\n",
    "capo_weight_group = capomulin_df.groupby('Weight (g)')['Tumor Volume (mm3)'].mean().reset_index()\n",
    "capo_weight_group = capo_weight_group.rename(columns = {'Tumor Volume (mm3)': \"Average Tumor Volume (mm3)\"})\n",
    "weight = capo_weight_group['Weight (g)'].values\n",
    "tum_vol = capo_weight_group['Average Tumor Volume (mm3)'].values\n",
    "\n",
    "plt.scatter(weight, tum_vol)\n",
    "plt.xlabel('Weight (g)')\n",
    "plt.ylabel('Average Tumor Volume (mm3)')\n",
    "plt.title('Mouse weight vs. Average Tumor Volume')\n",
    "plt.grid()\n",
    "\n",
    "# For the sake of adequare visualozation the x lim and y lim are chosen. Sinc weight never can be 0 it was decided to start\n",
    "# from 10, similarly, there is no tumor volume smaller than 20 mm3 in the complete dataset and tumor cannot be 0 it was decided\n",
    "#to have the same start limit for y axis as for y. \n",
    "plt.xlim(10,28)\n",
    "plt.ylim(20,50)"
   ]
  },
  {
   "cell_type": "code",
   "execution_count": 14,
   "metadata": {},
   "outputs": [
    {
     "data": {
      "text/plain": [
       "22.05012627"
      ]
     },
     "execution_count": 14,
     "metadata": {},
     "output_type": "execute_result"
    }
   ],
   "source": [
    "complete_study['Tumor Volume (mm3)'].min()"
   ]
  },
  {
   "cell_type": "code",
   "execution_count": 15,
   "metadata": {},
   "outputs": [
    {
     "name": "stdout",
     "output_type": "stream",
     "text": [
      "Correlation between the Weight and Average Tumor Volume\n",
      "\n",
      "                             Weight (g)  Average Tumor Volume (mm3)\n",
      "Weight (g)                    1.000000                    0.950524\n",
      "Average Tumor Volume (mm3)    0.950524                    1.000000 \n",
      "\n",
      "\n"
     ]
    },
    {
     "data": {
      "image/png": "[encoded data removed]",
      "text/plain": [
       "<Figure size 432x288 with 1 Axes>"
      ]
     },
     "metadata": {
      "needs_background": "light"
     },
     "output_type": "display_data"
    }
   ],
   "source": [
    "# Calculate the correlation coefficient and linear regression model for mouse weight and average tumor volume for the Capomulin regimen\n",
    "\n",
    "# Correlation coefficient\n",
    "\n",
    "print(\"Correlation between the Weight and Average Tumor Volume\\n\\n\", capo_weight_group.corr(), \"\\n\\n\")\n",
    "\n",
    "# Linear regression model\n",
    "\n",
    "from scipy.stats import linregress\n",
    "(slope, intercept, _, _, _) = linregress(weight, tum_vol)\n",
    "\n",
    "fit = slope * capo_weight_group['Weight (g)'].values + intercept\n",
    "\n",
    "fig, ax = plt.subplots()\n",
    "fig.suptitle(\"Mouse Weight vs. Average Tumor Volume\\n Linear regression model\")\n",
    "\n",
    "ax.set_xlabel('Weight (g)')\n",
    "ax.set_ylabel('Average Tumor Volume (mm3)')\n",
    "ax.plot(weight, tum_vol, linewidth=0, marker='o')\n",
    "ax.plot(weight, fit, 'b--')\n",
    "plt.grid()\n",
    "plt.xlim(10,28)\n",
    "plt.ylim(10,50)\n",
    "plt.show()"
   ]
  }
 ],
 "metadata": {
  "anaconda-cloud": {},
  "kernelspec": {
   "display_name": "Python [conda env:python37]",
   "language": "python",
   "name": "conda-env-python37-py"
  },
  "language_info": {
   "codemirror_mode": {
    "name": "ipython",
    "version": 3
   },
   "file_extension": ".py",
   "mimetype": "text/x-python",
   "name": "python",
   "nbconvert_exporter": "python",
   "pygments_lexer": "ipython3",
   "version": "3.7.5"
  }
 },
 "nbformat": 4,
 "nbformat_minor": 2
}
